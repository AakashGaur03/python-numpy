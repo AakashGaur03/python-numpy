{
 "cells": [
  {
   "cell_type": "markdown",
   "metadata": {},
   "source": [
    "## Numpy array and Basics"
   ]
  },
  {
   "cell_type": "code",
   "execution_count": 1,
   "metadata": {},
   "outputs": [],
   "source": [
    "import numpy as np"
   ]
  },
  {
   "cell_type": "markdown",
   "metadata": {},
   "source": [
    "## Creating array from list"
   ]
  },
  {
   "cell_type": "code",
   "execution_count": 3,
   "metadata": {},
   "outputs": [
    {
     "name": "stdout",
     "output_type": "stream",
     "text": [
      "[1 2 3 4 5]\n",
      "[[1 2 3]\n",
      " [4 5 6]]\n"
     ]
    }
   ],
   "source": [
    "arr_1d = np.array([1,2,3,4,5])\n",
    "print(arr_1d)\n",
    "\n",
    "arr_2d = np.array([[1,2,3],[4,5,6]])\n",
    "print(arr_2d)"
   ]
  },
  {
   "cell_type": "markdown",
   "metadata": {},
   "source": [
    "### List VS Numpy Array"
   ]
  },
  {
   "cell_type": "code",
   "execution_count": 7,
   "metadata": {},
   "outputs": [
    {
     "name": "stdout",
     "output_type": "stream",
     "text": [
      "Python List Multiplication  [1, 2, 3, 1, 2, 3]\n",
      "Python List Multiplication  [2 4 6]\n",
      "List Operation:  0.337352991104126\n",
      "Numpy Operation:  0.025873899459838867\n"
     ]
    }
   ],
   "source": [
    "py_list = [1,2,3]\n",
    "print(\"Python List Multiplication \", py_list*2)\n",
    "\n",
    "np_array = np.array([1,2,3]) # element wise multiplication\n",
    "print(\"Python List Multiplication \", np_array*2)\n",
    "\n",
    "import time\n",
    "start = time.time()\n",
    "py_list = [i*2 for i in range(10000000)]\n",
    "print(\"List Operation: \", time.time()-start)\n",
    "start = time.time()\n",
    "np_array = np.arange(10000000) * 2\n",
    "print(\"Numpy Operation: \", time.time()-start)"
   ]
  },
  {
   "cell_type": "markdown",
   "metadata": {},
   "source": [
    "### Creating Array from scratch"
   ]
  },
  {
   "cell_type": "code",
   "execution_count": 17,
   "metadata": {},
   "outputs": [
    {
     "name": "stdout",
     "output_type": "stream",
     "text": [
      "[[0. 0. 0. 0.]\n",
      " [0. 0. 0. 0.]\n",
      " [0. 0. 0. 0.]]\n",
      "[[1. 1. 1.]\n",
      " [1. 1. 1.]]\n",
      "[[7 7]\n",
      " [7 7]]\n",
      "[[0.02843676 0.65885094 0.93362298]\n",
      " [0.6175702  0.43533421 0.44992039]]\n",
      "[0 2 4 6 8]\n"
     ]
    }
   ],
   "source": [
    "zeros = np.zeros((3,4))\n",
    "print(zeros)\n",
    "\n",
    "ones = np.ones((2,3))\n",
    "print(ones)\n",
    "\n",
    "full = np.full((2,2), 7)\n",
    "print(full)\n",
    "\n",
    "random = np.random.random((2,3))\n",
    "print(random)\n",
    "\n",
    "# Start , end non inclusive and step\n",
    "sequence = np.arange(0,10,2)\n",
    "print(sequence)"
   ]
  },
  {
   "cell_type": "markdown",
   "metadata": {},
   "source": [
    "### Vector, Matrix and Tensor"
   ]
  },
  {
   "cell_type": "code",
   "execution_count": 22,
   "metadata": {},
   "outputs": [
    {
     "name": "stdout",
     "output_type": "stream",
     "text": [
      "Vector :  [1 2 3]\n",
      "Matrix :  [[1 2 3]\n",
      " [4 5 6]]\n",
      "Tensor :  [[[1 2]\n",
      "  [3 4]]\n",
      "\n",
      " [[5 6]\n",
      "  [7 8]]]\n"
     ]
    }
   ],
   "source": [
    "vector = np.array([1,2,3])\n",
    "print(\"Vector : \",vector)\n",
    "matrix = np.array([[1,2,3],[4,5,6]])\n",
    "print(\"Matrix : \",matrix)\n",
    "tensor = np.array([[[1,2],[3,4]],[[5,6],[7,8]]])\n",
    "print(\"Tensor : \",tensor)"
   ]
  },
  {
   "cell_type": "markdown",
   "metadata": {},
   "source": [
    "## Array properties"
   ]
  },
  {
   "cell_type": "code",
   "execution_count": 33,
   "metadata": {},
   "outputs": [
    {
     "name": "stdout",
     "output_type": "stream",
     "text": [
      "Shape (2, 3)\n",
      "Dimesion 2\n",
      "Size 6\n",
      "Data Type int64\n"
     ]
    }
   ],
   "source": [
    "# arr = np.array([[1,2,3],[4,5,True]])\n",
    "# arr = np.array([[1,2,3],[4,5,6.8]])\n",
    "# arr = np.array([[1,2,3],[4,5,\"6.8\"]])\n",
    "arr = np.array([[1,2,3],[4,5,6]])  # Note how data type changes with declarations But Also we keep similar data type in an array for best practice\n",
    "print(\"Shape\",arr.shape)  # Gives rows and columns\n",
    "print(\"Dimesion\",arr.ndim)  # Gives Dimesions\n",
    "print(\"Size\",arr.size)  # Gives total elements\n",
    "print(\"Data Type\",arr.dtype)  # Gives Data type"
   ]
  },
  {
   "cell_type": "markdown",
   "metadata": {},
   "source": [
    "# Array Reshaping"
   ]
  },
  {
   "cell_type": "code",
   "execution_count": 42,
   "metadata": {},
   "outputs": [
    {
     "name": "stdout",
     "output_type": "stream",
     "text": [
      "Array  [ 0  1  2  3  4  5  6  7  8  9 10 11]\n",
      "Reshaped  [[ 0  1  2  3]\n",
      " [ 4  5  6  7]\n",
      " [ 8  9 10 11]]\n",
      "flattend  [ 0  1  2  3  4  5  6  7  8  9 10 11]\n",
      "Original [ 0  1  2  3  4  5  6  7  8  9 10 11]\n",
      "Raveled [ 0  1  2  3  4  5  6  7  8  9 10 11]\n",
      "Original [ 0  1  2  3  4  5  6  7  8  9 10 11]\n",
      "Transposed [[ 0  4  8]\n",
      " [ 1  5  9]\n",
      " [ 2  6 10]\n",
      " [ 3  7 11]]\n"
     ]
    }
   ],
   "source": [
    "arr=np.arange(12)\n",
    "print(\"Array \",arr)\n",
    "\n",
    "reshaped = arr.reshape((3,4))\n",
    "print(\"Reshaped \",reshaped)\n",
    "flattend = arr.flatten()\n",
    "print(\"flattend \",flattend)\n",
    "print(\"Original\",arr)\n",
    "\n",
    "# returns view instead of copy means updates original Array\n",
    "raveled = reshaped.ravel()\n",
    "print(\"Raveled\",raveled)\n",
    "print(\"Original\",arr)\n",
    "\n",
    "#transpose\n",
    "\n",
    "transposed = reshaped.T\n",
    "print(\"Transposed\", transposed)"
   ]
  }
 ],
 "metadata": {
  "kernelspec": {
   "display_name": "venv",
   "language": "python",
   "name": "python3"
  },
  "language_info": {
   "codemirror_mode": {
    "name": "ipython",
    "version": 3
   },
   "file_extension": ".py",
   "mimetype": "text/x-python",
   "name": "python",
   "nbconvert_exporter": "python",
   "pygments_lexer": "ipython3",
   "version": "3.13.3"
  }
 },
 "nbformat": 4,
 "nbformat_minor": 2
}
