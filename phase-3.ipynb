{
 "cells": [
  {
   "cell_type": "code",
   "execution_count": 2,
   "metadata": {},
   "outputs": [],
   "source": [
    "import numpy as np\n",
    "import matplotlib.pyplot as plt"
   ]
  },
  {
   "cell_type": "code",
   "execution_count": 3,
   "metadata": {},
   "outputs": [
    {
     "name": "stdout",
     "output_type": "stream",
     "text": [
      "SALES ANALYSIS\n",
      "Shape of data (5, 5)\n",
      "Data for three  [     4 180000 210000 240000 270000]\n",
      "Data for first three  [[     1 150000 180000 220000 250000]\n",
      " [     2 120000 140000 160000 190000]\n",
      " [     3 200000 230000 260000 300000]]\n",
      "Data in particular range  [[150000 180000 220000 250000]\n",
      " [120000 140000 160000 190000]\n",
      " [200000 230000 260000 300000]\n",
      " [180000 210000 240000 270000]\n",
      " [160000 185000 205000 230000]]\n",
      "Data in particular range  [[140000 160000]\n",
      " [230000 260000]\n",
      " [210000 240000]\n",
      " [185000 205000]]\n"
     ]
    }
   ],
   "source": [
    "# Data structure: [restaurant_id, 2021, 2022, 2023, 2024]\n",
    "sales_data = np.array([\n",
    "    [1, 150000, 180000, 220000, 250000],  # Paradise Biryani\n",
    "    [2, 120000, 140000, 160000, 190000],  # Beijing Bites\n",
    "    [3, 200000, 230000, 260000, 300000],  # Pizza Hub\n",
    "    [4, 180000, 210000, 240000, 270000],  # Burger Point\n",
    "    [5, 160000, 185000, 205000, 230000]   # Chai Point\n",
    "])\n",
    "\n",
    "print(\"SALES ANALYSIS\")\n",
    "\n",
    "print(\"Shape of data\",sales_data.shape)\n",
    "\n",
    "print(\"Data for three \",sales_data[3])\n",
    "print(\"Data for first three \",sales_data[:3])\n",
    "\n",
    "# First colon is that all data second colon is range of the data so from 1 index to all index \n",
    "print(\"Data in particular range \",sales_data[:,1:])\n",
    "print(\"Data in particular range \",sales_data[1:,2:4])"
   ]
  },
  {
   "cell_type": "code",
   "execution_count": 5,
   "metadata": {},
   "outputs": [
    {
     "name": "stdout",
     "output_type": "stream",
     "text": [
      "[     15  810000  945000 1085000 1240000]\n",
      "Yearly Total without index [ 810000  945000 1085000 1240000]\n",
      "Total Each Sum [800000 610000 990000 900000 780000]\n"
     ]
    }
   ],
   "source": [
    "# Total Sales per Year\n",
    "\n",
    "\n",
    "print(np.sum(sales_data,axis=0))\n",
    "\n",
    "yearly_total = np.sum(sales_data[:, 1:],axis=0)\n",
    "print(\"Yearly Total without index\",yearly_total)\n",
    "total_each_sum = np.sum(sales_data[:, 1:],axis=1)\n",
    "print(\"Total Each Sum\",total_each_sum)"
   ]
  },
  {
   "cell_type": "markdown",
   "metadata": {},
   "source": [
    "# Minimum Sales per restaurant\n"
   ]
  },
  {
   "cell_type": "code",
   "execution_count": 11,
   "metadata": {},
   "outputs": [
    {
     "name": "stdout",
     "output_type": "stream",
     "text": [
      "[150000 120000 200000 180000 160000]\n",
      "[200000 230000 260000 300000]\n",
      "[200000. 152500. 247500. 225000. 195000.]\n"
     ]
    }
   ],
   "source": [
    "min_sales = np.min(sales_data[:, 1:],axis=1)\n",
    "print(min_sales)\n",
    "\n",
    "# Maximim Sales per year for all restaurant\n",
    "max_sales = np.max(sales_data[:, 1:],axis=0)\n",
    "print(max_sales)\n",
    "\n",
    "# Average Sales per restaurant\n",
    "avg_sales = np.mean(sales_data[:, 1:],axis=1)\n",
    "print(avg_sales)"
   ]
  },
  {
   "cell_type": "code",
   "execution_count": 27,
   "metadata": {},
   "outputs": [],
   "source": [
    "cumsum = np.cumsum(sales_data[:, 1:],axis=1)\n",
    "print(cumsum)\n",
    "\n",
    "plt.figure(figsize=(10,6))\n",
    "plt.plot(np.mean(cumsum,axis=0))\n",
    "plt.title(\"Avg Cumulative sale across all restaurant\")\n",
    "plt.xlabel(\"Years\")\n",
    "plt.ylabel(\"Sales\")\n",
    "plt.grid(True)\n",
    "plt.show()"
   ]
  },
  {
   "cell_type": "code",
   "execution_count": 21,
   "metadata": {},
   "outputs": [
    {
     "name": "stdout",
     "output_type": "stream",
     "text": [
      "Vector Addition [ 7  9 11 13 15]\n",
      "Vector Multiplication [ 6 14 24 36 50]\n",
      "Dot Product 130\n",
      "Angle 0.26554161733900966\n"
     ]
    }
   ],
   "source": [
    "vector1 = np.array([1,2,3,4,5])\n",
    "vector2 = np.array([6,7,8,9,10])\n",
    "\n",
    "print(\"Vector Addition\", vector1 + vector2)\n",
    "print(\"Vector Multiplication\", vector1 * vector2)\n",
    "print(\"Dot Product\", np.dot(vector1 , vector2))\n",
    "\n",
    "angle = np.arccos(np.dot(vector1,vector2)/(np.linalg.norm(vector1) * np.linalg.norm(vector2)))\n",
    "print(\"Angle\",angle)"
   ]
  },
  {
   "cell_type": "code",
   "execution_count": 23,
   "metadata": {},
   "outputs": [
    {
     "name": "stdout",
     "output_type": "stream",
     "text": [
      "['CHINESE' 'PIZZA' 'BURGER' 'CAFE']\n"
     ]
    }
   ],
   "source": [
    "restaurant_types = np.array([\"chinese\",\"pizza\",\"burger\",\"cafe\"])\n",
    "# vectorize lets us attach any regular python operation\n",
    "vectorize_upper = np.vectorize(str.upper)\n",
    "print(vectorize_upper(restaurant_types))"
   ]
  },
  {
   "cell_type": "code",
   "execution_count": 26,
   "metadata": {},
   "outputs": [
    {
     "name": "stdout",
     "output_type": "stream",
     "text": [
      "[[     1 150000 180000 220000 250000]\n",
      " [     2 120000 140000 160000 190000]\n",
      " [     3 200000 230000 260000 300000]\n",
      " [     4 180000 210000 240000 270000]\n",
      " [     5 160000 185000 205000 230000]]\n",
      "[[12500.         15000.         18333.33333333 20833.33333333]\n",
      " [10000.         11666.66666667 13333.33333333 15833.33333333]\n",
      " [16666.66666667 19166.66666667 21666.66666667 25000.        ]\n",
      " [15000.         17500.         20000.         22500.        ]\n",
      " [13333.33333333 15416.66666667 17083.33333333 19166.66666667]]\n"
     ]
    }
   ],
   "source": [
    "monthly_avg = sales_data[:, 1:] /12\n",
    "print(sales_data)\n",
    "print(monthly_avg)"
   ]
  },
  {
   "cell_type": "code",
   "execution_count": null,
   "metadata": {},
   "outputs": [],
   "source": []
  }
 ],
 "metadata": {
  "kernelspec": {
   "display_name": "venv",
   "language": "python",
   "name": "python3"
  },
  "language_info": {
   "codemirror_mode": {
    "name": "ipython",
    "version": 3
   },
   "file_extension": ".py",
   "mimetype": "text/x-python",
   "name": "python",
   "nbconvert_exporter": "python",
   "pygments_lexer": "ipython3",
   "version": "3.13.3"
  }
 },
 "nbformat": 4,
 "nbformat_minor": 2
}
