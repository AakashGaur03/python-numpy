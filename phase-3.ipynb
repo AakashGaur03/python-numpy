{
 "cells": [
  {
   "cell_type": "code",
   "execution_count": 2,
   "metadata": {},
   "outputs": [
    {
     "name": "stderr",
     "output_type": "stream",
     "text": [
      "Matplotlib is building the font cache; this may take a moment.\n"
     ]
    }
   ],
   "source": [
    "import numpy as np\n",
    "import matplotlib.pyplot as plt"
   ]
  },
  {
   "cell_type": "code",
   "execution_count": 15,
   "metadata": {},
   "outputs": [
    {
     "name": "stdout",
     "output_type": "stream",
     "text": [
      "SALES ANALYSIS\n",
      "Shape of data (5, 5)\n",
      "Data for three  [     4 180000 210000 240000 270000]\n",
      "Data for first three  [[     1 150000 180000 220000 250000]\n",
      " [     2 120000 140000 160000 190000]\n",
      " [     3 200000 230000 260000 300000]]\n",
      "Data in particular range  [[150000 180000 220000 250000]\n",
      " [120000 140000 160000 190000]\n",
      " [200000 230000 260000 300000]\n",
      " [180000 210000 240000 270000]\n",
      " [160000 185000 205000 230000]]\n",
      "Data in particular range  [[140000 160000]\n",
      " [230000 260000]\n",
      " [210000 240000]\n",
      " [185000 205000]]\n"
     ]
    }
   ],
   "source": [
    "# Data structure: [restaurant_id, 2021, 2022, 2023, 2024]\n",
    "sales_data = np.array([\n",
    "    [1, 150000, 180000, 220000, 250000],  # Paradise Biryani\n",
    "    [2, 120000, 140000, 160000, 190000],  # Beijing Bites\n",
    "    [3, 200000, 230000, 260000, 300000],  # Pizza Hub\n",
    "    [4, 180000, 210000, 240000, 270000],  # Burger Point\n",
    "    [5, 160000, 185000, 205000, 230000]   # Chai Point\n",
    "])\n",
    "\n",
    "print(\"SALES ANALYSIS\")\n",
    "\n",
    "print(\"Shape of data\",sales_data.shape)\n",
    "\n",
    "print(\"Data for three \",sales_data[3])\n",
    "print(\"Data for first three \",sales_data[:3])\n",
    "\n",
    "# First colon is that all data second colon is range of the data so from 1 index to all index \n",
    "print(\"Data in particular range \",sales_data[:,1:])\n",
    "print(\"Data in particular range \",sales_data[1:,2:4])"
   ]
  },
  {
   "cell_type": "code",
   "execution_count": 21,
   "metadata": {},
   "outputs": [
    {
     "name": "stdout",
     "output_type": "stream",
     "text": [
      "[     15  810000  945000 1085000 1240000]\n",
      "Yearly Total without index [ 810000  945000 1085000 1240000]\n",
      "Total Each Sum [800000 610000 990000 900000 780000]\n"
     ]
    }
   ],
   "source": [
    "# Total Sales per Year\n",
    "\n",
    "\n",
    "print(np.sum(sales_data,axis=0))\n",
    "\n",
    "yearly_total = np.sum(sales_data[:, 1:],axis=0)\n",
    "print(\"Yearly Total without index\",yearly_total)\n",
    "total_each_sum = np.sum(sales_data[:, 1:],axis=1)\n",
    "print(\"Total Each Sum\",total_each_sum)"
   ]
  }
 ],
 "metadata": {
  "kernelspec": {
   "display_name": "venv",
   "language": "python",
   "name": "python3"
  },
  "language_info": {
   "codemirror_mode": {
    "name": "ipython",
    "version": 3
   },
   "file_extension": ".py",
   "mimetype": "text/x-python",
   "name": "python",
   "nbconvert_exporter": "python",
   "pygments_lexer": "ipython3",
   "version": "3.13.3"
  }
 },
 "nbformat": 4,
 "nbformat_minor": 2
}
